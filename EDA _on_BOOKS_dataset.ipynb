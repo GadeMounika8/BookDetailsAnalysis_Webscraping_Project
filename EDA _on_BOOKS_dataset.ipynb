{
 "cells": [
  {
   "cell_type": "markdown",
   "id": "1cadc867",
   "metadata": {},
   "source": [
    "# Step-1: Importing All required Libraries"
   ]
  },
  {
   "cell_type": "code",
   "execution_count": 1,
   "id": "feef6b3f",
   "metadata": {},
   "outputs": [],
   "source": [
    "# importing all Required Libraries\n",
    "import numpy as np\n",
    "import pandas as pd\n",
    "import matplotlib.pyplot as plt\n",
    "import seaborn as sns"
   ]
  },
  {
   "cell_type": "markdown",
   "id": "dff83c4d",
   "metadata": {},
   "source": [
    "# Step-2: Load the Dataset"
   ]
  },
  {
   "cell_type": "code",
   "execution_count": 2,
   "id": "67ad260a",
   "metadata": {},
   "outputs": [],
   "source": [
    "# Reading the Dataset\n",
    "df =  pd.read_csv('books.csv')"
   ]
  },
  {
   "cell_type": "code",
   "execution_count": 3,
   "id": "ff600376",
   "metadata": {},
   "outputs": [
    {
     "data": {
      "text/html": [
       "<div>\n",
       "<style scoped>\n",
       "    .dataframe tbody tr th:only-of-type {\n",
       "        vertical-align: middle;\n",
       "    }\n",
       "\n",
       "    .dataframe tbody tr th {\n",
       "        vertical-align: top;\n",
       "    }\n",
       "\n",
       "    .dataframe thead th {\n",
       "        text-align: right;\n",
       "    }\n",
       "</style>\n",
       "<table border=\"1\" class=\"dataframe\">\n",
       "  <thead>\n",
       "    <tr style=\"text-align: right;\">\n",
       "      <th></th>\n",
       "      <th>Unnamed: 0</th>\n",
       "      <th>Title</th>\n",
       "      <th>Star</th>\n",
       "      <th>Price</th>\n",
       "    </tr>\n",
       "  </thead>\n",
       "  <tbody>\n",
       "    <tr>\n",
       "      <th>0</th>\n",
       "      <td>0</td>\n",
       "      <td>A Light in the Attic</td>\n",
       "      <td>Three</td>\n",
       "      <td>1.77</td>\n",
       "    </tr>\n",
       "    <tr>\n",
       "      <th>1</th>\n",
       "      <td>1</td>\n",
       "      <td>Tipping the Velvet</td>\n",
       "      <td>One</td>\n",
       "      <td>3.74</td>\n",
       "    </tr>\n",
       "    <tr>\n",
       "      <th>2</th>\n",
       "      <td>2</td>\n",
       "      <td>Soumission</td>\n",
       "      <td>One</td>\n",
       "      <td>0.10</td>\n",
       "    </tr>\n",
       "    <tr>\n",
       "      <th>3</th>\n",
       "      <td>3</td>\n",
       "      <td>Sharp Objects</td>\n",
       "      <td>Four</td>\n",
       "      <td>7.82</td>\n",
       "    </tr>\n",
       "    <tr>\n",
       "      <th>4</th>\n",
       "      <td>4</td>\n",
       "      <td>Sapiens: A Brief History of Humankind</td>\n",
       "      <td>Five</td>\n",
       "      <td>4.23</td>\n",
       "    </tr>\n",
       "    <tr>\n",
       "      <th>...</th>\n",
       "      <td>...</td>\n",
       "      <td>...</td>\n",
       "      <td>...</td>\n",
       "      <td>...</td>\n",
       "    </tr>\n",
       "    <tr>\n",
       "      <th>995</th>\n",
       "      <td>995</td>\n",
       "      <td>Alice in Wonderland (Alice's Adventures in Won...</td>\n",
       "      <td>One</td>\n",
       "      <td>5.53</td>\n",
       "    </tr>\n",
       "    <tr>\n",
       "      <th>996</th>\n",
       "      <td>996</td>\n",
       "      <td>Ajin: Demi-Human, Volume 1 (Ajin: Demi-Human #1)</td>\n",
       "      <td>Four</td>\n",
       "      <td>7.06</td>\n",
       "    </tr>\n",
       "    <tr>\n",
       "      <th>997</th>\n",
       "      <td>997</td>\n",
       "      <td>A Spy's Devotion (The Regency Spies of London #1)</td>\n",
       "      <td>Five</td>\n",
       "      <td>6.97</td>\n",
       "    </tr>\n",
       "    <tr>\n",
       "      <th>998</th>\n",
       "      <td>998</td>\n",
       "      <td>1st to Die (Women's Murder Club #1)</td>\n",
       "      <td>One</td>\n",
       "      <td>3.98</td>\n",
       "    </tr>\n",
       "    <tr>\n",
       "      <th>999</th>\n",
       "      <td>999</td>\n",
       "      <td>1,000 Places to See Before You Die</td>\n",
       "      <td>Five</td>\n",
       "      <td>6.08</td>\n",
       "    </tr>\n",
       "  </tbody>\n",
       "</table>\n",
       "<p>1000 rows × 4 columns</p>\n",
       "</div>"
      ],
      "text/plain": [
       "     Unnamed: 0                                              Title   Star  \\\n",
       "0             0                               A Light in the Attic  Three   \n",
       "1             1                                 Tipping the Velvet    One   \n",
       "2             2                                         Soumission    One   \n",
       "3             3                                      Sharp Objects   Four   \n",
       "4             4              Sapiens: A Brief History of Humankind   Five   \n",
       "..          ...                                                ...    ...   \n",
       "995         995  Alice in Wonderland (Alice's Adventures in Won...    One   \n",
       "996         996   Ajin: Demi-Human, Volume 1 (Ajin: Demi-Human #1)   Four   \n",
       "997         997  A Spy's Devotion (The Regency Spies of London #1)   Five   \n",
       "998         998                1st to Die (Women's Murder Club #1)    One   \n",
       "999         999                 1,000 Places to See Before You Die   Five   \n",
       "\n",
       "     Price  \n",
       "0     1.77  \n",
       "1     3.74  \n",
       "2     0.10  \n",
       "3     7.82  \n",
       "4     4.23  \n",
       "..     ...  \n",
       "995   5.53  \n",
       "996   7.06  \n",
       "997   6.97  \n",
       "998   3.98  \n",
       "999   6.08  \n",
       "\n",
       "[1000 rows x 4 columns]"
      ]
     },
     "execution_count": 3,
     "metadata": {},
     "output_type": "execute_result"
    }
   ],
   "source": [
    "df"
   ]
  },
  {
   "cell_type": "markdown",
   "id": "b356c42e",
   "metadata": {},
   "source": [
    "# Step-3: Data Cleaning"
   ]
  },
  {
   "cell_type": "code",
   "execution_count": 4,
   "id": "304ff6f9",
   "metadata": {},
   "outputs": [],
   "source": [
    "# renaming the Price Column\n",
    "df.columns = df.columns.str.replace('Price', 'Price in $')"
   ]
  },
  {
   "cell_type": "code",
   "execution_count": 5,
   "id": "21ed6c7e",
   "metadata": {},
   "outputs": [
    {
     "data": {
      "text/html": [
       "<div>\n",
       "<style scoped>\n",
       "    .dataframe tbody tr th:only-of-type {\n",
       "        vertical-align: middle;\n",
       "    }\n",
       "\n",
       "    .dataframe tbody tr th {\n",
       "        vertical-align: top;\n",
       "    }\n",
       "\n",
       "    .dataframe thead th {\n",
       "        text-align: right;\n",
       "    }\n",
       "</style>\n",
       "<table border=\"1\" class=\"dataframe\">\n",
       "  <thead>\n",
       "    <tr style=\"text-align: right;\">\n",
       "      <th></th>\n",
       "      <th>Unnamed: 0</th>\n",
       "      <th>Title</th>\n",
       "      <th>Star</th>\n",
       "      <th>Price in $</th>\n",
       "    </tr>\n",
       "  </thead>\n",
       "  <tbody>\n",
       "    <tr>\n",
       "      <th>0</th>\n",
       "      <td>0</td>\n",
       "      <td>A Light in the Attic</td>\n",
       "      <td>Three</td>\n",
       "      <td>1.77</td>\n",
       "    </tr>\n",
       "    <tr>\n",
       "      <th>1</th>\n",
       "      <td>1</td>\n",
       "      <td>Tipping the Velvet</td>\n",
       "      <td>One</td>\n",
       "      <td>3.74</td>\n",
       "    </tr>\n",
       "    <tr>\n",
       "      <th>2</th>\n",
       "      <td>2</td>\n",
       "      <td>Soumission</td>\n",
       "      <td>One</td>\n",
       "      <td>0.10</td>\n",
       "    </tr>\n",
       "    <tr>\n",
       "      <th>3</th>\n",
       "      <td>3</td>\n",
       "      <td>Sharp Objects</td>\n",
       "      <td>Four</td>\n",
       "      <td>7.82</td>\n",
       "    </tr>\n",
       "    <tr>\n",
       "      <th>4</th>\n",
       "      <td>4</td>\n",
       "      <td>Sapiens: A Brief History of Humankind</td>\n",
       "      <td>Five</td>\n",
       "      <td>4.23</td>\n",
       "    </tr>\n",
       "    <tr>\n",
       "      <th>...</th>\n",
       "      <td>...</td>\n",
       "      <td>...</td>\n",
       "      <td>...</td>\n",
       "      <td>...</td>\n",
       "    </tr>\n",
       "    <tr>\n",
       "      <th>995</th>\n",
       "      <td>995</td>\n",
       "      <td>Alice in Wonderland (Alice's Adventures in Won...</td>\n",
       "      <td>One</td>\n",
       "      <td>5.53</td>\n",
       "    </tr>\n",
       "    <tr>\n",
       "      <th>996</th>\n",
       "      <td>996</td>\n",
       "      <td>Ajin: Demi-Human, Volume 1 (Ajin: Demi-Human #1)</td>\n",
       "      <td>Four</td>\n",
       "      <td>7.06</td>\n",
       "    </tr>\n",
       "    <tr>\n",
       "      <th>997</th>\n",
       "      <td>997</td>\n",
       "      <td>A Spy's Devotion (The Regency Spies of London #1)</td>\n",
       "      <td>Five</td>\n",
       "      <td>6.97</td>\n",
       "    </tr>\n",
       "    <tr>\n",
       "      <th>998</th>\n",
       "      <td>998</td>\n",
       "      <td>1st to Die (Women's Murder Club #1)</td>\n",
       "      <td>One</td>\n",
       "      <td>3.98</td>\n",
       "    </tr>\n",
       "    <tr>\n",
       "      <th>999</th>\n",
       "      <td>999</td>\n",
       "      <td>1,000 Places to See Before You Die</td>\n",
       "      <td>Five</td>\n",
       "      <td>6.08</td>\n",
       "    </tr>\n",
       "  </tbody>\n",
       "</table>\n",
       "<p>1000 rows × 4 columns</p>\n",
       "</div>"
      ],
      "text/plain": [
       "     Unnamed: 0                                              Title   Star  \\\n",
       "0             0                               A Light in the Attic  Three   \n",
       "1             1                                 Tipping the Velvet    One   \n",
       "2             2                                         Soumission    One   \n",
       "3             3                                      Sharp Objects   Four   \n",
       "4             4              Sapiens: A Brief History of Humankind   Five   \n",
       "..          ...                                                ...    ...   \n",
       "995         995  Alice in Wonderland (Alice's Adventures in Won...    One   \n",
       "996         996   Ajin: Demi-Human, Volume 1 (Ajin: Demi-Human #1)   Four   \n",
       "997         997  A Spy's Devotion (The Regency Spies of London #1)   Five   \n",
       "998         998                1st to Die (Women's Murder Club #1)    One   \n",
       "999         999                 1,000 Places to See Before You Die   Five   \n",
       "\n",
       "     Price in $  \n",
       "0          1.77  \n",
       "1          3.74  \n",
       "2          0.10  \n",
       "3          7.82  \n",
       "4          4.23  \n",
       "..          ...  \n",
       "995        5.53  \n",
       "996        7.06  \n",
       "997        6.97  \n",
       "998        3.98  \n",
       "999        6.08  \n",
       "\n",
       "[1000 rows x 4 columns]"
      ]
     },
     "execution_count": 5,
     "metadata": {},
     "output_type": "execute_result"
    }
   ],
   "source": [
    "df"
   ]
  },
  {
   "cell_type": "code",
   "execution_count": 6,
   "id": "185db556",
   "metadata": {},
   "outputs": [],
   "source": [
    "# selecting only three columns in a dataframe\n",
    "df = df[['Title', 'Star', 'Price in $']]"
   ]
  },
  {
   "cell_type": "code",
   "execution_count": 7,
   "id": "20d52219",
   "metadata": {},
   "outputs": [
    {
     "data": {
      "text/html": [
       "<div>\n",
       "<style scoped>\n",
       "    .dataframe tbody tr th:only-of-type {\n",
       "        vertical-align: middle;\n",
       "    }\n",
       "\n",
       "    .dataframe tbody tr th {\n",
       "        vertical-align: top;\n",
       "    }\n",
       "\n",
       "    .dataframe thead th {\n",
       "        text-align: right;\n",
       "    }\n",
       "</style>\n",
       "<table border=\"1\" class=\"dataframe\">\n",
       "  <thead>\n",
       "    <tr style=\"text-align: right;\">\n",
       "      <th></th>\n",
       "      <th>Title</th>\n",
       "      <th>Star</th>\n",
       "      <th>Price in $</th>\n",
       "    </tr>\n",
       "  </thead>\n",
       "  <tbody>\n",
       "    <tr>\n",
       "      <th>0</th>\n",
       "      <td>A Light in the Attic</td>\n",
       "      <td>Three</td>\n",
       "      <td>1.77</td>\n",
       "    </tr>\n",
       "    <tr>\n",
       "      <th>1</th>\n",
       "      <td>Tipping the Velvet</td>\n",
       "      <td>One</td>\n",
       "      <td>3.74</td>\n",
       "    </tr>\n",
       "    <tr>\n",
       "      <th>2</th>\n",
       "      <td>Soumission</td>\n",
       "      <td>One</td>\n",
       "      <td>0.10</td>\n",
       "    </tr>\n",
       "    <tr>\n",
       "      <th>3</th>\n",
       "      <td>Sharp Objects</td>\n",
       "      <td>Four</td>\n",
       "      <td>7.82</td>\n",
       "    </tr>\n",
       "    <tr>\n",
       "      <th>4</th>\n",
       "      <td>Sapiens: A Brief History of Humankind</td>\n",
       "      <td>Five</td>\n",
       "      <td>4.23</td>\n",
       "    </tr>\n",
       "    <tr>\n",
       "      <th>...</th>\n",
       "      <td>...</td>\n",
       "      <td>...</td>\n",
       "      <td>...</td>\n",
       "    </tr>\n",
       "    <tr>\n",
       "      <th>995</th>\n",
       "      <td>Alice in Wonderland (Alice's Adventures in Won...</td>\n",
       "      <td>One</td>\n",
       "      <td>5.53</td>\n",
       "    </tr>\n",
       "    <tr>\n",
       "      <th>996</th>\n",
       "      <td>Ajin: Demi-Human, Volume 1 (Ajin: Demi-Human #1)</td>\n",
       "      <td>Four</td>\n",
       "      <td>7.06</td>\n",
       "    </tr>\n",
       "    <tr>\n",
       "      <th>997</th>\n",
       "      <td>A Spy's Devotion (The Regency Spies of London #1)</td>\n",
       "      <td>Five</td>\n",
       "      <td>6.97</td>\n",
       "    </tr>\n",
       "    <tr>\n",
       "      <th>998</th>\n",
       "      <td>1st to Die (Women's Murder Club #1)</td>\n",
       "      <td>One</td>\n",
       "      <td>3.98</td>\n",
       "    </tr>\n",
       "    <tr>\n",
       "      <th>999</th>\n",
       "      <td>1,000 Places to See Before You Die</td>\n",
       "      <td>Five</td>\n",
       "      <td>6.08</td>\n",
       "    </tr>\n",
       "  </tbody>\n",
       "</table>\n",
       "<p>1000 rows × 3 columns</p>\n",
       "</div>"
      ],
      "text/plain": [
       "                                                 Title   Star  Price in $\n",
       "0                                 A Light in the Attic  Three        1.77\n",
       "1                                   Tipping the Velvet    One        3.74\n",
       "2                                           Soumission    One        0.10\n",
       "3                                        Sharp Objects   Four        7.82\n",
       "4                Sapiens: A Brief History of Humankind   Five        4.23\n",
       "..                                                 ...    ...         ...\n",
       "995  Alice in Wonderland (Alice's Adventures in Won...    One        5.53\n",
       "996   Ajin: Demi-Human, Volume 1 (Ajin: Demi-Human #1)   Four        7.06\n",
       "997  A Spy's Devotion (The Regency Spies of London #1)   Five        6.97\n",
       "998                1st to Die (Women's Murder Club #1)    One        3.98\n",
       "999                 1,000 Places to See Before You Die   Five        6.08\n",
       "\n",
       "[1000 rows x 3 columns]"
      ]
     },
     "execution_count": 7,
     "metadata": {},
     "output_type": "execute_result"
    }
   ],
   "source": [
    "df"
   ]
  },
  {
   "cell_type": "code",
   "execution_count": 8,
   "id": "4a1c28de",
   "metadata": {},
   "outputs": [
    {
     "data": {
      "text/plain": [
       "Title         0\n",
       "Star          0\n",
       "Price in $    0\n",
       "dtype: int64"
      ]
     },
     "execution_count": 8,
     "metadata": {},
     "output_type": "execute_result"
    }
   ],
   "source": [
    "# checking for Null Values\n",
    "df.isnull().sum()"
   ]
  },
  {
   "cell_type": "code",
   "execution_count": 9,
   "id": "af2cadcc",
   "metadata": {},
   "outputs": [
    {
     "data": {
      "text/plain": [
       "0"
      ]
     },
     "execution_count": 9,
     "metadata": {},
     "output_type": "execute_result"
    }
   ],
   "source": [
    "# Checking for Duplicates\n",
    "df.duplicated().sum()"
   ]
  },
  {
   "cell_type": "markdown",
   "id": "28b84f4c",
   "metadata": {},
   "source": [
    "# Step-4: Data Exploration"
   ]
  },
  {
   "cell_type": "code",
   "execution_count": 10,
   "id": "0c00afcb",
   "metadata": {},
   "outputs": [
    {
     "data": {
      "text/plain": [
       "(1000, 3)"
      ]
     },
     "execution_count": 10,
     "metadata": {},
     "output_type": "execute_result"
    }
   ],
   "source": [
    "# Displays no:of rows and Columns\n",
    "df.shape"
   ]
  },
  {
   "cell_type": "code",
   "execution_count": 11,
   "id": "2570c1ce",
   "metadata": {},
   "outputs": [
    {
     "data": {
      "text/plain": [
       "Index(['Title', 'Star', 'Price in $'], dtype='object')"
      ]
     },
     "execution_count": 11,
     "metadata": {},
     "output_type": "execute_result"
    }
   ],
   "source": [
    "# Displays all column names\n",
    "df.columns"
   ]
  },
  {
   "cell_type": "code",
   "execution_count": 40,
   "id": "bf64ffbd",
   "metadata": {},
   "outputs": [
    {
     "data": {
      "text/plain": [
       "Title          object\n",
       "Star           object\n",
       "Price in $    float64\n",
       "dtype: object"
      ]
     },
     "execution_count": 40,
     "metadata": {},
     "output_type": "execute_result"
    }
   ],
   "source": [
    "# each column's Datatype in a DF\n",
    "df.dtypes"
   ]
  },
  {
   "cell_type": "code",
   "execution_count": 41,
   "id": "7a68efd1",
   "metadata": {},
   "outputs": [
    {
     "data": {
      "text/plain": [
       "8.77    6\n",
       "9.67    5\n",
       "5.02    5\n",
       "9.45    5\n",
       "6.58    5\n",
       "       ..\n",
       "9.90    1\n",
       "6.54    1\n",
       "4.44    1\n",
       "6.20    1\n",
       "9.82    1\n",
       "Name: Price in $, Length: 627, dtype: int64"
      ]
     },
     "execution_count": 41,
     "metadata": {},
     "output_type": "execute_result"
    }
   ],
   "source": [
    "# Return a Series containing counts of unique values\n",
    "df['Price in $'].value_counts()"
   ]
  },
  {
   "cell_type": "code",
   "execution_count": 12,
   "id": "bc0e2cb1",
   "metadata": {},
   "outputs": [
    {
     "name": "stdout",
     "output_type": "stream",
     "text": [
      "<class 'pandas.core.frame.DataFrame'>\n",
      "RangeIndex: 1000 entries, 0 to 999\n",
      "Data columns (total 3 columns):\n",
      " #   Column      Non-Null Count  Dtype  \n",
      "---  ------      --------------  -----  \n",
      " 0   Title       1000 non-null   object \n",
      " 1   Star        1000 non-null   object \n",
      " 2   Price in $  1000 non-null   float64\n",
      "dtypes: float64(1), object(2)\n",
      "memory usage: 23.6+ KB\n"
     ]
    }
   ],
   "source": [
    "# info() gives an all the information about the data in a dataset such as All column names, each column's datatype, no:of non null values in each column\n",
    "df.info()"
   ]
  },
  {
   "cell_type": "code",
   "execution_count": 13,
   "id": "54a4bf67",
   "metadata": {},
   "outputs": [
    {
     "data": {
      "text/html": [
       "<div>\n",
       "<style scoped>\n",
       "    .dataframe tbody tr th:only-of-type {\n",
       "        vertical-align: middle;\n",
       "    }\n",
       "\n",
       "    .dataframe tbody tr th {\n",
       "        vertical-align: top;\n",
       "    }\n",
       "\n",
       "    .dataframe thead th {\n",
       "        text-align: right;\n",
       "    }\n",
       "</style>\n",
       "<table border=\"1\" class=\"dataframe\">\n",
       "  <thead>\n",
       "    <tr style=\"text-align: right;\">\n",
       "      <th></th>\n",
       "      <th>Title</th>\n",
       "      <th>Star</th>\n",
       "      <th>Price in $</th>\n",
       "    </tr>\n",
       "  </thead>\n",
       "  <tbody>\n",
       "    <tr>\n",
       "      <th>0</th>\n",
       "      <td>A Light in the Attic</td>\n",
       "      <td>Three</td>\n",
       "      <td>1.77</td>\n",
       "    </tr>\n",
       "    <tr>\n",
       "      <th>1</th>\n",
       "      <td>Tipping the Velvet</td>\n",
       "      <td>One</td>\n",
       "      <td>3.74</td>\n",
       "    </tr>\n",
       "    <tr>\n",
       "      <th>2</th>\n",
       "      <td>Soumission</td>\n",
       "      <td>One</td>\n",
       "      <td>0.10</td>\n",
       "    </tr>\n",
       "    <tr>\n",
       "      <th>3</th>\n",
       "      <td>Sharp Objects</td>\n",
       "      <td>Four</td>\n",
       "      <td>7.82</td>\n",
       "    </tr>\n",
       "    <tr>\n",
       "      <th>4</th>\n",
       "      <td>Sapiens: A Brief History of Humankind</td>\n",
       "      <td>Five</td>\n",
       "      <td>4.23</td>\n",
       "    </tr>\n",
       "  </tbody>\n",
       "</table>\n",
       "</div>"
      ],
      "text/plain": [
       "                                   Title   Star  Price in $\n",
       "0                   A Light in the Attic  Three        1.77\n",
       "1                     Tipping the Velvet    One        3.74\n",
       "2                             Soumission    One        0.10\n",
       "3                          Sharp Objects   Four        7.82\n",
       "4  Sapiens: A Brief History of Humankind   Five        4.23"
      ]
     },
     "execution_count": 13,
     "metadata": {},
     "output_type": "execute_result"
    }
   ],
   "source": [
    "# display Top five Records\n",
    "df.head()"
   ]
  },
  {
   "cell_type": "code",
   "execution_count": 14,
   "id": "c3d1f0ed",
   "metadata": {},
   "outputs": [
    {
     "data": {
      "text/html": [
       "<div>\n",
       "<style scoped>\n",
       "    .dataframe tbody tr th:only-of-type {\n",
       "        vertical-align: middle;\n",
       "    }\n",
       "\n",
       "    .dataframe tbody tr th {\n",
       "        vertical-align: top;\n",
       "    }\n",
       "\n",
       "    .dataframe thead th {\n",
       "        text-align: right;\n",
       "    }\n",
       "</style>\n",
       "<table border=\"1\" class=\"dataframe\">\n",
       "  <thead>\n",
       "    <tr style=\"text-align: right;\">\n",
       "      <th></th>\n",
       "      <th>Title</th>\n",
       "      <th>Star</th>\n",
       "      <th>Price in $</th>\n",
       "    </tr>\n",
       "  </thead>\n",
       "  <tbody>\n",
       "    <tr>\n",
       "      <th>995</th>\n",
       "      <td>Alice in Wonderland (Alice's Adventures in Won...</td>\n",
       "      <td>One</td>\n",
       "      <td>5.53</td>\n",
       "    </tr>\n",
       "    <tr>\n",
       "      <th>996</th>\n",
       "      <td>Ajin: Demi-Human, Volume 1 (Ajin: Demi-Human #1)</td>\n",
       "      <td>Four</td>\n",
       "      <td>7.06</td>\n",
       "    </tr>\n",
       "    <tr>\n",
       "      <th>997</th>\n",
       "      <td>A Spy's Devotion (The Regency Spies of London #1)</td>\n",
       "      <td>Five</td>\n",
       "      <td>6.97</td>\n",
       "    </tr>\n",
       "    <tr>\n",
       "      <th>998</th>\n",
       "      <td>1st to Die (Women's Murder Club #1)</td>\n",
       "      <td>One</td>\n",
       "      <td>3.98</td>\n",
       "    </tr>\n",
       "    <tr>\n",
       "      <th>999</th>\n",
       "      <td>1,000 Places to See Before You Die</td>\n",
       "      <td>Five</td>\n",
       "      <td>6.08</td>\n",
       "    </tr>\n",
       "  </tbody>\n",
       "</table>\n",
       "</div>"
      ],
      "text/plain": [
       "                                                 Title  Star  Price in $\n",
       "995  Alice in Wonderland (Alice's Adventures in Won...   One        5.53\n",
       "996   Ajin: Demi-Human, Volume 1 (Ajin: Demi-Human #1)  Four        7.06\n",
       "997  A Spy's Devotion (The Regency Spies of London #1)  Five        6.97\n",
       "998                1st to Die (Women's Murder Club #1)   One        3.98\n",
       "999                 1,000 Places to See Before You Die  Five        6.08"
      ]
     },
     "execution_count": 14,
     "metadata": {},
     "output_type": "execute_result"
    }
   ],
   "source": [
    "# display Bottom five Records\n",
    "df.tail()"
   ]
  },
  {
   "cell_type": "code",
   "execution_count": 35,
   "id": "f3b35488",
   "metadata": {},
   "outputs": [
    {
     "data": {
      "text/html": [
       "<div>\n",
       "<style scoped>\n",
       "    .dataframe tbody tr th:only-of-type {\n",
       "        vertical-align: middle;\n",
       "    }\n",
       "\n",
       "    .dataframe tbody tr th {\n",
       "        vertical-align: top;\n",
       "    }\n",
       "\n",
       "    .dataframe thead th {\n",
       "        text-align: right;\n",
       "    }\n",
       "</style>\n",
       "<table border=\"1\" class=\"dataframe\">\n",
       "  <thead>\n",
       "    <tr style=\"text-align: right;\">\n",
       "      <th></th>\n",
       "      <th>Title</th>\n",
       "      <th>Star</th>\n",
       "      <th>Price in $</th>\n",
       "    </tr>\n",
       "  </thead>\n",
       "  <tbody>\n",
       "    <tr>\n",
       "      <th>1</th>\n",
       "      <td>Tipping the Velvet</td>\n",
       "      <td>One</td>\n",
       "      <td>3.74</td>\n",
       "    </tr>\n",
       "    <tr>\n",
       "      <th>2</th>\n",
       "      <td>Soumission</td>\n",
       "      <td>One</td>\n",
       "      <td>0.10</td>\n",
       "    </tr>\n",
       "    <tr>\n",
       "      <th>5</th>\n",
       "      <td>The Requiem Red</td>\n",
       "      <td>One</td>\n",
       "      <td>2.65</td>\n",
       "    </tr>\n",
       "    <tr>\n",
       "      <th>9</th>\n",
       "      <td>The Black Maria</td>\n",
       "      <td>One</td>\n",
       "      <td>2.15</td>\n",
       "    </tr>\n",
       "    <tr>\n",
       "      <th>16</th>\n",
       "      <td>Olio</td>\n",
       "      <td>One</td>\n",
       "      <td>3.88</td>\n",
       "    </tr>\n",
       "    <tr>\n",
       "      <th>...</th>\n",
       "      <td>...</td>\n",
       "      <td>...</td>\n",
       "      <td>...</td>\n",
       "    </tr>\n",
       "    <tr>\n",
       "      <th>988</th>\n",
       "      <td>Charity's Cross (Charles Towne Belles #4)</td>\n",
       "      <td>One</td>\n",
       "      <td>1.24</td>\n",
       "    </tr>\n",
       "    <tr>\n",
       "      <th>990</th>\n",
       "      <td>Bridget Jones's Diary (Bridget Jones #1)</td>\n",
       "      <td>One</td>\n",
       "      <td>9.82</td>\n",
       "    </tr>\n",
       "    <tr>\n",
       "      <th>994</th>\n",
       "      <td>Beyond Good and Evil</td>\n",
       "      <td>One</td>\n",
       "      <td>3.38</td>\n",
       "    </tr>\n",
       "    <tr>\n",
       "      <th>995</th>\n",
       "      <td>Alice in Wonderland (Alice's Adventures in Won...</td>\n",
       "      <td>One</td>\n",
       "      <td>5.53</td>\n",
       "    </tr>\n",
       "    <tr>\n",
       "      <th>998</th>\n",
       "      <td>1st to Die (Women's Murder Club #1)</td>\n",
       "      <td>One</td>\n",
       "      <td>3.98</td>\n",
       "    </tr>\n",
       "  </tbody>\n",
       "</table>\n",
       "<p>226 rows × 3 columns</p>\n",
       "</div>"
      ],
      "text/plain": [
       "                                                 Title Star  Price in $\n",
       "1                                   Tipping the Velvet  One        3.74\n",
       "2                                           Soumission  One        0.10\n",
       "5                                      The Requiem Red  One        2.65\n",
       "9                                      The Black Maria  One        2.15\n",
       "16                                                Olio  One        3.88\n",
       "..                                                 ...  ...         ...\n",
       "988          Charity's Cross (Charles Towne Belles #4)  One        1.24\n",
       "990           Bridget Jones's Diary (Bridget Jones #1)  One        9.82\n",
       "994                               Beyond Good and Evil  One        3.38\n",
       "995  Alice in Wonderland (Alice's Adventures in Won...  One        5.53\n",
       "998                1st to Die (Women's Murder Club #1)  One        3.98\n",
       "\n",
       "[226 rows x 3 columns]"
      ]
     },
     "execution_count": 35,
     "metadata": {},
     "output_type": "execute_result"
    }
   ],
   "source": [
    "# Extracting all the Records which are having One Star of Books\n",
    "df.loc[df['Star'] == 'One']"
   ]
  },
  {
   "cell_type": "code",
   "execution_count": 42,
   "id": "3d520a2f",
   "metadata": {},
   "outputs": [
    {
     "data": {
      "text/html": [
       "<div>\n",
       "<style scoped>\n",
       "    .dataframe tbody tr th:only-of-type {\n",
       "        vertical-align: middle;\n",
       "    }\n",
       "\n",
       "    .dataframe tbody tr th {\n",
       "        vertical-align: top;\n",
       "    }\n",
       "\n",
       "    .dataframe thead th {\n",
       "        text-align: right;\n",
       "    }\n",
       "</style>\n",
       "<table border=\"1\" class=\"dataframe\">\n",
       "  <thead>\n",
       "    <tr style=\"text-align: right;\">\n",
       "      <th></th>\n",
       "      <th>Title</th>\n",
       "      <th>Star</th>\n",
       "      <th>Price in $</th>\n",
       "    </tr>\n",
       "  </thead>\n",
       "  <tbody>\n",
       "    <tr>\n",
       "      <th>3</th>\n",
       "      <td>Sharp Objects</td>\n",
       "      <td>Four</td>\n",
       "      <td>7.82</td>\n",
       "    </tr>\n",
       "    <tr>\n",
       "      <th>6</th>\n",
       "      <td>The Dirty Little Secrets of Getting Your Dream...</td>\n",
       "      <td>Four</td>\n",
       "      <td>3.34</td>\n",
       "    </tr>\n",
       "    <tr>\n",
       "      <th>8</th>\n",
       "      <td>The Boys in the Boat: Nine Americans and Their...</td>\n",
       "      <td>Four</td>\n",
       "      <td>2.60</td>\n",
       "    </tr>\n",
       "    <tr>\n",
       "      <th>11</th>\n",
       "      <td>Shakespeare's Sonnets</td>\n",
       "      <td>Four</td>\n",
       "      <td>0.66</td>\n",
       "    </tr>\n",
       "    <tr>\n",
       "      <th>29</th>\n",
       "      <td>Wall and Piece</td>\n",
       "      <td>Four</td>\n",
       "      <td>4.18</td>\n",
       "    </tr>\n",
       "    <tr>\n",
       "      <th>...</th>\n",
       "      <td>...</td>\n",
       "      <td>...</td>\n",
       "      <td>...</td>\n",
       "    </tr>\n",
       "    <tr>\n",
       "      <th>977</th>\n",
       "      <td>Having the Barbarian's Baby (Ice Planet Barbar...</td>\n",
       "      <td>Four</td>\n",
       "      <td>4.96</td>\n",
       "    </tr>\n",
       "    <tr>\n",
       "      <th>978</th>\n",
       "      <td>Giant Days, Vol. 1 (Giant Days #1-4)</td>\n",
       "      <td>Four</td>\n",
       "      <td>6.76</td>\n",
       "    </tr>\n",
       "    <tr>\n",
       "      <th>986</th>\n",
       "      <td>Choosing Our Religion: The Spiritual Lives of ...</td>\n",
       "      <td>Four</td>\n",
       "      <td>8.42</td>\n",
       "    </tr>\n",
       "    <tr>\n",
       "      <th>991</th>\n",
       "      <td>Bounty (Colorado Mountain #7)</td>\n",
       "      <td>Four</td>\n",
       "      <td>7.26</td>\n",
       "    </tr>\n",
       "    <tr>\n",
       "      <th>996</th>\n",
       "      <td>Ajin: Demi-Human, Volume 1 (Ajin: Demi-Human #1)</td>\n",
       "      <td>Four</td>\n",
       "      <td>7.06</td>\n",
       "    </tr>\n",
       "  </tbody>\n",
       "</table>\n",
       "<p>179 rows × 3 columns</p>\n",
       "</div>"
      ],
      "text/plain": [
       "                                                 Title  Star  Price in $\n",
       "3                                        Sharp Objects  Four        7.82\n",
       "6    The Dirty Little Secrets of Getting Your Dream...  Four        3.34\n",
       "8    The Boys in the Boat: Nine Americans and Their...  Four        2.60\n",
       "11                               Shakespeare's Sonnets  Four        0.66\n",
       "29                                      Wall and Piece  Four        4.18\n",
       "..                                                 ...   ...         ...\n",
       "977  Having the Barbarian's Baby (Ice Planet Barbar...  Four        4.96\n",
       "978               Giant Days, Vol. 1 (Giant Days #1-4)  Four        6.76\n",
       "986  Choosing Our Religion: The Spiritual Lives of ...  Four        8.42\n",
       "991                      Bounty (Colorado Mountain #7)  Four        7.26\n",
       "996   Ajin: Demi-Human, Volume 1 (Ajin: Demi-Human #1)  Four        7.06\n",
       "\n",
       "[179 rows x 3 columns]"
      ]
     },
     "execution_count": 42,
     "metadata": {},
     "output_type": "execute_result"
    }
   ],
   "source": [
    "# Extracting all the Records which are having Four Star of Books\n",
    "df.loc[df['Star'] == 'Four']"
   ]
  },
  {
   "cell_type": "code",
   "execution_count": 33,
   "id": "b41acc1c",
   "metadata": {},
   "outputs": [
    {
     "data": {
      "text/html": [
       "<div>\n",
       "<style scoped>\n",
       "    .dataframe tbody tr th:only-of-type {\n",
       "        vertical-align: middle;\n",
       "    }\n",
       "\n",
       "    .dataframe tbody tr th {\n",
       "        vertical-align: top;\n",
       "    }\n",
       "\n",
       "    .dataframe thead th {\n",
       "        text-align: right;\n",
       "    }\n",
       "</style>\n",
       "<table border=\"1\" class=\"dataframe\">\n",
       "  <thead>\n",
       "    <tr style=\"text-align: right;\">\n",
       "      <th></th>\n",
       "      <th>Title</th>\n",
       "      <th>Star</th>\n",
       "      <th>Price in $</th>\n",
       "    </tr>\n",
       "  </thead>\n",
       "  <tbody>\n",
       "    <tr>\n",
       "      <th>366</th>\n",
       "      <td>The Diary of a Young Girl</td>\n",
       "      <td>Three</td>\n",
       "      <td>9.9</td>\n",
       "    </tr>\n",
       "  </tbody>\n",
       "</table>\n",
       "</div>"
      ],
      "text/plain": [
       "                         Title   Star  Price in $\n",
       "366  The Diary of a Young Girl  Three         9.9"
      ]
     },
     "execution_count": 33,
     "metadata": {},
     "output_type": "execute_result"
    }
   ],
   "source": [
    "# Extracting all the Records which are having 9.9$ Price of Books\n",
    "df.loc[df['Price in $'] == 9.9]"
   ]
  },
  {
   "cell_type": "code",
   "execution_count": 34,
   "id": "c0fa7db5",
   "metadata": {},
   "outputs": [
    {
     "data": {
      "text/html": [
       "<div>\n",
       "<style scoped>\n",
       "    .dataframe tbody tr th:only-of-type {\n",
       "        vertical-align: middle;\n",
       "    }\n",
       "\n",
       "    .dataframe tbody tr th {\n",
       "        vertical-align: top;\n",
       "    }\n",
       "\n",
       "    .dataframe thead th {\n",
       "        text-align: right;\n",
       "    }\n",
       "</style>\n",
       "<table border=\"1\" class=\"dataframe\">\n",
       "  <thead>\n",
       "    <tr style=\"text-align: right;\">\n",
       "      <th></th>\n",
       "      <th>Title</th>\n",
       "      <th>Star</th>\n",
       "      <th>Price in $</th>\n",
       "    </tr>\n",
       "  </thead>\n",
       "  <tbody>\n",
       "    <tr>\n",
       "      <th>36</th>\n",
       "      <td>Maude (1883-1993):She Grew Up with the country</td>\n",
       "      <td>Two</td>\n",
       "      <td>8.02</td>\n",
       "    </tr>\n",
       "    <tr>\n",
       "      <th>37</th>\n",
       "      <td>In a Dark, Dark Wood</td>\n",
       "      <td>One</td>\n",
       "      <td>9.63</td>\n",
       "    </tr>\n",
       "    <tr>\n",
       "      <th>49</th>\n",
       "      <td>Unicorn Tracks</td>\n",
       "      <td>Three</td>\n",
       "      <td>8.78</td>\n",
       "    </tr>\n",
       "    <tr>\n",
       "      <th>53</th>\n",
       "      <td>This One Summer</td>\n",
       "      <td>Four</td>\n",
       "      <td>9.49</td>\n",
       "    </tr>\n",
       "    <tr>\n",
       "      <th>55</th>\n",
       "      <td>The Torch Is Passed: A Harding Family Story</td>\n",
       "      <td>One</td>\n",
       "      <td>9.09</td>\n",
       "    </tr>\n",
       "    <tr>\n",
       "      <th>...</th>\n",
       "      <td>...</td>\n",
       "      <td>...</td>\n",
       "      <td>...</td>\n",
       "    </tr>\n",
       "    <tr>\n",
       "      <th>981</th>\n",
       "      <td>Forever Rockers (The Rocker #12)</td>\n",
       "      <td>Three</td>\n",
       "      <td>8.80</td>\n",
       "    </tr>\n",
       "    <tr>\n",
       "      <th>982</th>\n",
       "      <td>Fighting Fate (Fighting #6)</td>\n",
       "      <td>Three</td>\n",
       "      <td>9.24</td>\n",
       "    </tr>\n",
       "    <tr>\n",
       "      <th>986</th>\n",
       "      <td>Choosing Our Religion: The Spiritual Lives of ...</td>\n",
       "      <td>Four</td>\n",
       "      <td>8.42</td>\n",
       "    </tr>\n",
       "    <tr>\n",
       "      <th>989</th>\n",
       "      <td>Bright Lines</td>\n",
       "      <td>Five</td>\n",
       "      <td>9.07</td>\n",
       "    </tr>\n",
       "    <tr>\n",
       "      <th>990</th>\n",
       "      <td>Bridget Jones's Diary (Bridget Jones #1)</td>\n",
       "      <td>One</td>\n",
       "      <td>9.82</td>\n",
       "    </tr>\n",
       "  </tbody>\n",
       "</table>\n",
       "<p>203 rows × 3 columns</p>\n",
       "</div>"
      ],
      "text/plain": [
       "                                                 Title   Star  Price in $\n",
       "36      Maude (1883-1993):She Grew Up with the country    Two        8.02\n",
       "37                                In a Dark, Dark Wood    One        9.63\n",
       "49                                      Unicorn Tracks  Three        8.78\n",
       "53                                     This One Summer   Four        9.49\n",
       "55         The Torch Is Passed: A Harding Family Story    One        9.09\n",
       "..                                                 ...    ...         ...\n",
       "981                   Forever Rockers (The Rocker #12)  Three        8.80\n",
       "982                        Fighting Fate (Fighting #6)  Three        9.24\n",
       "986  Choosing Our Religion: The Spiritual Lives of ...   Four        8.42\n",
       "989                                       Bright Lines   Five        9.07\n",
       "990           Bridget Jones's Diary (Bridget Jones #1)    One        9.82\n",
       "\n",
       "[203 rows x 3 columns]"
      ]
     },
     "execution_count": 34,
     "metadata": {},
     "output_type": "execute_result"
    }
   ],
   "source": [
    "# Extracting all the Records which are having greater than or equal to 8$ price of Books\n",
    "df.loc[df['Price in $'] >= 8]"
   ]
  },
  {
   "cell_type": "code",
   "execution_count": 15,
   "id": "dfe09d43",
   "metadata": {},
   "outputs": [
    {
     "data": {
      "text/plain": [
       "0.0"
      ]
     },
     "execution_count": 15,
     "metadata": {},
     "output_type": "execute_result"
    }
   ],
   "source": [
    "# minimum Book Price\n",
    "df['Price in $'].min()"
   ]
  },
  {
   "cell_type": "code",
   "execution_count": 16,
   "id": "14063b96",
   "metadata": {},
   "outputs": [
    {
     "data": {
      "text/plain": [
       "9.99"
      ]
     },
     "execution_count": 16,
     "metadata": {},
     "output_type": "execute_result"
    }
   ],
   "source": [
    "# maximum Book Price\n",
    "df['Price in $'].max()"
   ]
  },
  {
   "cell_type": "code",
   "execution_count": 43,
   "id": "69926315",
   "metadata": {},
   "outputs": [
    {
     "data": {
      "text/plain": [
       "One      226\n",
       "Three    203\n",
       "Five     196\n",
       "Two      196\n",
       "Four     179\n",
       "Name: Star, dtype: int64"
      ]
     },
     "execution_count": 43,
     "metadata": {},
     "output_type": "execute_result"
    }
   ],
   "source": [
    "# Return a Series containing counts of unique values\n",
    "df.Star.value_counts()"
   ]
  },
  {
   "cell_type": "markdown",
   "id": "cef93b19",
   "metadata": {},
   "source": [
    "        or"
   ]
  },
  {
   "cell_type": "code",
   "execution_count": 44,
   "id": "51ffe21d",
   "metadata": {},
   "outputs": [
    {
     "data": {
      "text/plain": [
       "One      226\n",
       "Three    203\n",
       "Five     196\n",
       "Two      196\n",
       "Four     179\n",
       "Name: Star, dtype: int64"
      ]
     },
     "execution_count": 44,
     "metadata": {},
     "output_type": "execute_result"
    }
   ],
   "source": [
    "#Return a Series containing counts of unique values\n",
    "df['Star'].value_counts()"
   ]
  },
  {
   "cell_type": "code",
   "execution_count": 19,
   "id": "20ef9ffe",
   "metadata": {},
   "outputs": [
    {
     "data": {
      "text/html": [
       "<div>\n",
       "<style scoped>\n",
       "    .dataframe tbody tr th:only-of-type {\n",
       "        vertical-align: middle;\n",
       "    }\n",
       "\n",
       "    .dataframe tbody tr th {\n",
       "        vertical-align: top;\n",
       "    }\n",
       "\n",
       "    .dataframe thead th {\n",
       "        text-align: right;\n",
       "    }\n",
       "</style>\n",
       "<table border=\"1\" class=\"dataframe\">\n",
       "  <thead>\n",
       "    <tr style=\"text-align: right;\">\n",
       "      <th></th>\n",
       "      <th>Price in $</th>\n",
       "    </tr>\n",
       "  </thead>\n",
       "  <tbody>\n",
       "    <tr>\n",
       "      <th>count</th>\n",
       "      <td>1000.000000</td>\n",
       "    </tr>\n",
       "    <tr>\n",
       "      <th>mean</th>\n",
       "      <td>5.040350</td>\n",
       "    </tr>\n",
       "    <tr>\n",
       "      <th>std</th>\n",
       "      <td>2.872091</td>\n",
       "    </tr>\n",
       "    <tr>\n",
       "      <th>min</th>\n",
       "      <td>0.000000</td>\n",
       "    </tr>\n",
       "    <tr>\n",
       "      <th>25%</th>\n",
       "      <td>2.417500</td>\n",
       "    </tr>\n",
       "    <tr>\n",
       "      <th>50%</th>\n",
       "      <td>5.020000</td>\n",
       "    </tr>\n",
       "    <tr>\n",
       "      <th>75%</th>\n",
       "      <td>7.482500</td>\n",
       "    </tr>\n",
       "    <tr>\n",
       "      <th>max</th>\n",
       "      <td>9.990000</td>\n",
       "    </tr>\n",
       "  </tbody>\n",
       "</table>\n",
       "</div>"
      ],
      "text/plain": [
       "        Price in $\n",
       "count  1000.000000\n",
       "mean      5.040350\n",
       "std       2.872091\n",
       "min       0.000000\n",
       "25%       2.417500\n",
       "50%       5.020000\n",
       "75%       7.482500\n",
       "max       9.990000"
      ]
     },
     "execution_count": 19,
     "metadata": {},
     "output_type": "execute_result"
    }
   ],
   "source": [
    "# it returns description of the data (or) statistical data in the DataFrame & it applies for only all numerical variables in the dataframe\n",
    "df.describe()"
   ]
  },
  {
   "cell_type": "markdown",
   "id": "223e8fa8",
   "metadata": {},
   "source": [
    "# Step-5: Data Visualization"
   ]
  },
  {
   "cell_type": "markdown",
   "id": "677d7ae5",
   "metadata": {},
   "source": [
    "# Using Matplotlib and Seaborn Libraries:"
   ]
  },
  {
   "cell_type": "markdown",
   "id": "cbb083bd",
   "metadata": {},
   "source": [
    "# Univariate Analysis:"
   ]
  },
  {
   "cell_type": "code",
   "execution_count": 20,
   "id": "9a3ce194",
   "metadata": {},
   "outputs": [
    {
     "data": {
      "image/png": "[encoded data removed]",
      "text/plain": [
       "<Figure size 640x480 with 1 Axes>"
      ]
     },
     "metadata": {},
     "output_type": "display_data"
    }
   ],
   "source": [
    "sns.countplot(x = 'Star', data = df,palette = 'PiYG',linewidth = 1, edgecolor = 'k' )\n",
    "plt.show();"
   ]
  },
  {
   "cell_type": "code",
   "execution_count": 24,
   "id": "ac041d35",
   "metadata": {},
   "outputs": [
    {
     "data": {
      "text/plain": [
       "One      226\n",
       "Three    203\n",
       "Five     196\n",
       "Two      196\n",
       "Four     179\n",
       "Name: Star, dtype: int64"
      ]
     },
     "execution_count": 24,
     "metadata": {},
     "output_type": "execute_result"
    }
   ],
   "source": [
    "df.Star.value_counts()"
   ]
  },
  {
   "cell_type": "markdown",
   "id": "10fe2009",
   "metadata": {},
   "source": [
    "# Observations: \n",
    "    \n",
    "1. The Books which are rated as One Star are more in number as compared to other books rated with different Stars.\n",
    "2. The Books which are rated as Four Star are less in number as compared to other books rated with different Stars.\n",
    "3. Both the Two Star Books and Five Star Books are same in number."
   ]
  },
  {
   "cell_type": "code",
   "execution_count": 24,
   "id": "27465a71",
   "metadata": {},
   "outputs": [
    {
     "data": {
      "image/png": "[encoded data removed]",
      "text/plain": [
       "<Figure size 600x600 with 1 Axes>"
      ]
     },
     "metadata": {},
     "output_type": "display_data"
    }
   ],
   "source": [
    "plt.figure(figsize = (6,6))\n",
    "sns.swarmplot(y = 'Price in $', data = df, palette = 'winter', edgecolor = 'black', linewidth = 0.4, size = 5)\n",
    "plt.yticks([1,2,3,4,5,6,7,8,9,10])\n",
    "plt.show();"
   ]
  },
  {
   "cell_type": "code",
   "execution_count": 25,
   "id": "720333a2",
   "metadata": {},
   "outputs": [
    {
     "data": {
      "text/plain": [
       "8.77    6\n",
       "9.67    5\n",
       "5.02    5\n",
       "9.45    5\n",
       "6.58    5\n",
       "       ..\n",
       "9.90    1\n",
       "6.54    1\n",
       "4.44    1\n",
       "6.20    1\n",
       "9.82    1\n",
       "Name: Price in $, Length: 627, dtype: int64"
      ]
     },
     "execution_count": 25,
     "metadata": {},
     "output_type": "execute_result"
    }
   ],
   "source": [
    "df['Price in $'].value_counts()"
   ]
  },
  {
   "cell_type": "markdown",
   "id": "cae10e7d",
   "metadata": {},
   "source": [
    "# Observation: \n",
    "    \n",
    "1. Minimum Price is 0.\n",
    "2. Maximum Price is approximately equal to 10.\n",
    "3. Mean is 5.04 & Median is 5.02"
   ]
  },
  {
   "cell_type": "code",
   "execution_count": 26,
   "id": "9af12c0c",
   "metadata": {},
   "outputs": [
    {
     "data": {
      "image/png": "[encoded data removed]",
      "text/plain": [
       "<Figure size 800x600 with 1 Axes>"
      ]
     },
     "metadata": {},
     "output_type": "display_data"
    }
   ],
   "source": [
    "plt.figure(figsize = (8,6))\n",
    "sns.boxplot(y = 'Price in $', data = df, color = 'g',  linewidth = 1.3, width = 0.4)\n",
    "plt.yticks([1,2,3,4,5,6,7,8,9,10])\n",
    "plt.show();"
   ]
  },
  {
   "cell_type": "markdown",
   "id": "fb006e1c",
   "metadata": {},
   "source": [
    "# Bivariate Analysis:"
   ]
  },
  {
   "cell_type": "code",
   "execution_count": 27,
   "id": "98f59ad8",
   "metadata": {},
   "outputs": [
    {
     "data": {
      "image/png": "[encoded data removed]",
      "text/plain": [
       "<Figure size 640x480 with 1 Axes>"
      ]
     },
     "metadata": {},
     "output_type": "display_data"
    }
   ],
   "source": [
    "sns.boxplot(x = 'Star', y = 'Price in $', data = df, palette = 'plasma')\n",
    "plt.yticks([1,2,3,4,5,6,7,8,9,10])\n",
    "plt.show();"
   ]
  }
 ],
 "metadata": {
  "kernelspec": {
   "display_name": "Python 3 (ipykernel)",
   "language": "python",
   "name": "python3"
  },
  "language_info": {
   "codemirror_mode": {
    "name": "ipython",
    "version": 3
   },
   "file_extension": ".py",
   "mimetype": "text/x-python",
   "name": "python",
   "nbconvert_exporter": "python",
   "pygments_lexer": "ipython3",
   "version": "3.9.13"
  }
 },
 "nbformat": 4,
 "nbformat_minor": 5
}
